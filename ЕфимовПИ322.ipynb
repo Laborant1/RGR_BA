{
  "nbformat": 4,
  "nbformat_minor": 0,
  "metadata": {
    "colab": {
      "name": "ЕфимовПИ322.ipynb",
      "provenance": [],
      "collapsed_sections": []
    },
    "kernelspec": {
      "name": "python3",
      "display_name": "Python 3"
    },
    "language_info": {
      "name": "python"
    }
  },
  "cells": [
    {
      "cell_type": "code",
      "source": [
        ""
      ],
      "metadata": {
        "id": "nuKw6cE9cxfL"
      },
      "execution_count": null,
      "outputs": []
    },
    {
      "cell_type": "markdown",
      "source": [
        "# **Греческий алфавит с помощью Markdown**\n",
        "---\n",
        "\n",
        "| Прописные |  Строчные |  Название |\n",
        "| :---: |:----:|:----:|\n",
        "|A|$\\alpha$|Альфа|\n",
        "|B|$\\beta$|Бета|\n",
        "|$\\Gamma$|$\\gamma$|Гамма|\n",
        "|$\\Delta$|$\\delta$|Дельта|\n",
        "|E|$\\epsilon$|Эпсилон|\n",
        "|Z|$\\zeta$|Дзета|\n",
        "|H|$\\eta$|Эта|\n",
        "|$\\Theta$|$\\theta$|Тета|\n",
        "|I|$\\iota$|Йота|\n",
        "|K|$\\kappa$|Каппа|\n",
        "|$\\Lambda$|$\\lambda$|Лямбда|\n",
        "|M|$\\mu$|Мю|\n",
        "|N|$\\nu$|Ню|\n",
        "|$\\Xi$|$\\xi$|Кси|\n",
        "|O|$\\omicron$|Омикрон|\n",
        "|$\\Pi$|$\\pi$|Пи|\n",
        "|P|$\\rho$|Ро|\n",
        "|$\\Sigma$|$\\sigma$|Сигма|\n",
        "|T|$\\tau$|Тау|\n",
        "|$\\Upsilon$|$\\upsilon$|Ипсилон|\n",
        "|$\\Phi$|$\\phi$|Фи|\n",
        "|X|$\\chi$|Хи|\n",
        "|$\\Psi$|$\\psi$|Пси|\n",
        "|$\\Omega$|$\\omega$|Омега|\n",
        "\n",
        "\n",
        "\n"
      ],
      "metadata": {
        "id": "IgITPee_b5RT"
      }
    },
    {
      "cell_type": "markdown",
      "source": [
        "# **Греческий алфавит с помощью Tex**\n",
        "---\n",
        "\n",
        "\\begin{array}\n",
        "{ccc}\n",
        "\\text{Прописные}&\\text{Строчные}&\\text{Название}\n",
        "\\\\ \n",
        "\\text{A}&{α}&Альфа\\\\\n",
        "\\text{Β}&{β}&Бета\\\\\n",
        "\\text{Γ}&{γ}&Гамма\\\\\n",
        "\\text{Δ}&{δ}&Дельта\\\\\n",
        "\\text{Ε}&{ϵ}&Эпсилон\\\\\n",
        "\\text{Ζ}&{ζ}&Дзета\\\\\n",
        "\\text{Η}&{η}&Эта\\\\\n",
        "\\text{Θ}&{θ}&Тета\\\\\n",
        "\\text{Ι}&{ι}&Йота\\\\\n",
        "\\text{Κ}&{κ}&Каппа\\\\\n",
        "\\text{Λ}&{λ}&Лямбда\\\\\n",
        "\\text{M}&{μ}&Мю\\\\\n",
        "\\text{N}&{ν}&Ню\\\\\n",
        "\\text{Ξ}&{ξ}&Кси\\\\\n",
        "\\text{Ο}&{𝜊}&Омикрон\\\\\n",
        "\\text{Π}&{π}&Пи\\\\\n",
        "\\text{Ρ}&{ρ}&Ро\\\\\n",
        "\\text{Σ}&{σ}&Сигма\\\\\n",
        "\\text{Τ}&{τ}&Тау\\\\\n",
        "\\text{𝛶}&{𝜐}&Ипсилон\\\\\n",
        "\\text{Φ}&{ϕ}&Фи\\\\\n",
        "\\text{Χ}&{𝜒}&Хи\\\\\n",
        "\\text{Ψ}&{ψ}&Пси\\\\\n",
        "\\text{Ω}&{ω}&Омега\\\\\n",
        "\\end{array}\n",
        "\n"
      ],
      "metadata": {
        "id": "T0BFHzETiBDy"
      }
    }
  ]
}